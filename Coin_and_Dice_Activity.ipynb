{
  "nbformat": 4,
  "nbformat_minor": 0,
  "metadata": {
    "colab": {
      "name": "Coin and Dice Activity.ipynb",
      "provenance": [],
      "collapsed_sections": [],
      "include_colab_link": true
    },
    "kernelspec": {
      "name": "python3",
      "display_name": "Python 3"
    }
  },
  "cells": [
    {
      "cell_type": "markdown",
      "metadata": {
        "id": "view-in-github",
        "colab_type": "text"
      },
      "source": [
        "<a href=\"https://colab.research.google.com/github/dkallenberg/Quarknet_Data/blob/master/Coin_and_Dice_Activity.ipynb\" target=\"_parent\"><img src=\"https://colab.research.google.com/assets/colab-badge.svg\" alt=\"Open In Colab\"/></a>"
      ]
    },
    {
      "cell_type": "markdown",
      "metadata": {
        "id": "52f2j4_f1dFr",
        "colab_type": "text"
      },
      "source": [
        "# Step 1  \n",
        "Do the swim test. If you don't have dice available, try a dice rolling app, such as \"Roll Dice!\"  \n",
        "\n",
        "# Step 2\n",
        "Consider an activity you might have your students do: flip a coin 10 times and record the number of heads, repeat for 8 trials, then make a histogram of the number of heads for each trial. Write a list of steps a computer program might need to perform to do the same investigation. That's called 'pseudocode'.\n",
        "\n",
        "# Step 3\n",
        "Run the code below. Try editing it to more closely match the activity described in step 2.\n",
        "\n",
        "# Step 4\n",
        "How does your pseudocode compare with the Python code? "
      ]
    },
    {
      "cell_type": "code",
      "metadata": {
        "id": "hsGWCS1A0zq7",
        "colab_type": "code",
        "colab": {}
      },
      "source": [
        "# imports some software packages we'll use\n",
        "import pandas as pd\n",
        "import numpy as np\n",
        "import matplotlib as mpl\n",
        "import matplotlib.pyplot as plt"
      ],
      "execution_count": 1,
      "outputs": []
    },
    {
      "cell_type": "markdown",
      "metadata": {
        "id": "kVbi8iHyRGB8",
        "colab_type": "text"
      },
      "source": [
        "We're going to use a function called randint. It may work a little differently than it appears. You can read about how it works at : https://numpy.org/doc/stable/reference/random/generated/numpy.random.randint.html"
      ]
    },
    {
      "cell_type": "code",
      "metadata": {
        "id": "pNym1yzm8ZX_",
        "colab_type": "code",
        "colab": {
          "base_uri": "https://localhost:8080/",
          "height": 34
        },
        "outputId": "6583b5e4-c183-45d1-c2ca-6f7135354cb2"
      },
      "source": [
        "# Does this model random coin flips? What could you do to improve the model?\n",
        "flips = np.random.randint(low=0, high=1, size=10)\n",
        "flips"
      ],
      "execution_count": 2,
      "outputs": [
        {
          "output_type": "execute_result",
          "data": {
            "text/plain": [
              "array([0, 0, 0, 0, 0, 0, 0, 0, 0, 0])"
            ]
          },
          "metadata": {
            "tags": []
          },
          "execution_count": 2
        }
      ]
    },
    {
      "cell_type": "code",
      "metadata": {
        "id": "iUTCIChc-5e_",
        "colab_type": "code",
        "colab": {
          "base_uri": "https://localhost:8080/",
          "height": 265
        },
        "outputId": "521247b1-a011-419d-93e9-bd43cbb4d1b4"
      },
      "source": [
        "plt.hist(flips, bins = [0,1,2,3], color='lightblue', edgecolor = 'black');"
      ],
      "execution_count": 3,
      "outputs": [
        {
          "output_type": "display_data",
          "data": {
            "image/png": "[encoded data removed]",
            "text/plain": [
              "<Figure size 432x288 with 1 Axes>"
            ]
          },
          "metadata": {
            "tags": [],
            "needs_background": "light"
          }
        }
      ]
    },
    {
      "cell_type": "code",
      "metadata": {
        "id": "wb-CjyqhAZK-",
        "colab_type": "code",
        "colab": {}
      },
      "source": [
        "# Now, edit the code above to model a set of random dice rolls"
      ],
      "execution_count": null,
      "outputs": []
    },
    {
      "cell_type": "code",
      "metadata": {
        "id": "GmKAhEYzDU5V",
        "colab_type": "code",
        "colab": {}
      },
      "source": [
        ""
      ],
      "execution_count": null,
      "outputs": []
    }
  ]
}