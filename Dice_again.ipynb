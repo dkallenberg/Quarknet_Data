{
  "nbformat": 4,
  "nbformat_minor": 0,
  "metadata": {
    "colab": {
      "name": "Dice_again.ipynb",
      "provenance": [],
      "authorship_tag": "ABX9TyO3/5wIWwTBMTe06HX7P+Qp",
      "include_colab_link": true
    },
    "kernelspec": {
      "name": "python3",
      "display_name": "Python 3"
    }
  },
  "cells": [
    {
      "cell_type": "markdown",
      "metadata": {
        "id": "view-in-github",
        "colab_type": "text"
      },
      "source": [
        "<a href=\"https://colab.research.google.com/github/dkallenberg/Quarknet_Data/blob/master/Dice_again.ipynb\" target=\"_parent\"><img src=\"https://colab.research.google.com/assets/colab-badge.svg\" alt=\"Open In Colab\"/></a>"
      ]
    },
    {
      "cell_type": "code",
      "metadata": {
        "id": "gfU8-Xel9mXo",
        "colab_type": "code",
        "colab": {
          "base_uri": "https://localhost:8080/",
          "height": 638
        },
        "outputId": "cf800ec4-f7cc-463d-fb4c-a88570a9a8d5"
      },
      "source": [
        "import numpy as np\n",
        "import matplotlib.pyplot as plt\n",
        "\n",
        "n_rolls = 20\n",
        "\n",
        "dice3 = np.empty((n_rolls, 3), dtype=np.int)\n",
        "\n",
        "for ie in range(0, n_rolls):\n",
        "  dice3[ie, 0] = np.random.randint(1,7)\n",
        "  dice3[ie, 1] = np.random.randint(1,7)\n",
        "  dice3[ie, 2] = np.random.randint(1,7)\n",
        "\n",
        "print(dice3)\n",
        "\n",
        "plt.hist(dice3, bins=6, range=(1,7))\n",
        "plt.title('All three Dice')"
      ],
      "execution_count": 11,
      "outputs": [
        {
          "output_type": "stream",
          "text": [
            "[[4 6 5]\n",
            " [6 3 3]\n",
            " [4 6 1]\n",
            " [1 6 4]\n",
            " [2 3 2]\n",
            " [6 2 1]\n",
            " [5 5 6]\n",
            " [2 4 6]\n",
            " [1 1 2]\n",
            " [2 3 3]\n",
            " [5 4 2]\n",
            " [2 2 4]\n",
            " [6 2 2]\n",
            " [3 2 5]\n",
            " [5 5 4]\n",
            " [3 6 1]\n",
            " [4 6 2]\n",
            " [1 5 4]\n",
            " [1 3 6]\n",
            " [5 5 3]]\n"
          ],
          "name": "stdout"
        },
        {
          "output_type": "execute_result",
          "data": {
            "text/plain": [
              "Text(0.5, 1.0, 'All three Dice')"
            ]
          },
          "metadata": {
            "tags": []
          },
          "execution_count": 11
        },
        {
          "output_type": "display_data",
          "data": {
            "image/png": "[encoded data removed]",
            "text/plain": [
              "<Figure size 432x288 with 1 Axes>"
            ]
          },
          "metadata": {
            "tags": [],
            "needs_background": "light"
          }
        }
      ]
    },
    {
      "cell_type": "code",
      "metadata": {
        "id": "TrQ6tklD_AWk",
        "colab_type": "code",
        "colab": {
          "base_uri": "https://localhost:8080/",
          "height": 298
        },
        "outputId": "309c1838-cee1-4332-cedf-10c02011a703"
      },
      "source": [
        "dice1no6 = np.empty((n_rolls, 3), dtype=np.int)\n",
        "\n",
        "for ie in range(0, n_rolls):\n",
        "  if(dice3[ie, 0]<6):\n",
        "    dice1no6[ie, 0:3] = dice3[ie, 0:3]\n",
        "\n",
        "plt.hist(dice1no6,range=(1,7))\n",
        "plt.title('Dice 1 no 6')"
      ],
      "execution_count": 10,
      "outputs": [
        {
          "output_type": "execute_result",
          "data": {
            "text/plain": [
              "Text(0.5, 1.0, 'Dice 1 no 6')"
            ]
          },
          "metadata": {
            "tags": []
          },
          "execution_count": 10
        },
        {
          "output_type": "display_data",
          "data": {
            "image/png": "[encoded data removed]",
            "text/plain": [
              "<Figure size 432x288 with 1 Axes>"
            ]
          },
          "metadata": {
            "tags": [],
            "needs_background": "light"
          }
        }
      ]
    }
  ]
}