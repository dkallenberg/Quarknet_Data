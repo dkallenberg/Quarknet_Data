{
  "nbformat": 4,
  "nbformat_minor": 0,
  "metadata": {
    "colab": {
      "name": "TEST Particle Physics Project.ipynb",
      "provenance": [],
      "collapsed_sections": [],
      "include_colab_link": true
    },
    "kernelspec": {
      "name": "python3",
      "display_name": "Python 3"
    }
  },
  "cells": [
    {
      "cell_type": "markdown",
      "metadata": {
        "id": "view-in-github",
        "colab_type": "text"
      },
      "source": [
        "<a href=\"https://colab.research.google.com/github/dkallenberg/Quarknet_Data/blob/master/TEST-(6-29)Particle_Physics_Project.ipynb\" target=\"_parent\"><img src=\"https://colab.research.google.com/assets/colab-badge.svg\" alt=\"Open In Colab\"/></a>"
      ]
    },
    {
      "cell_type": "markdown",
      "metadata": {
        "id": "BrmOSHYzYEGj",
        "colab_type": "text"
      },
      "source": [
        "->Particle Physics Project<-\n",
        "Analyzing CMS Particle Physics Data\n",
        "\n",
        "Introduction\n",
        "The CMS Collaboration brings together members of the particle physics community from across the globe in a quest to advance humanity’s knowledge of the very basic laws of our Universe. CMS has over 5000 particle physicists, engineers, computer scientists, technicians and students from 200 institutes and universities from more than 40 countries.\n",
        "The collaboration operates and collects data from the Compact Muon Solenoid (CMS), one of the general-purpose particle detectors at CERN’s Large Hadron Collider (LHC). Collaborators from all over the world helped design and fabricate components of the detector, which were brought to CERN in Geneva, Switzerland for final assembly. Data collected by CMS are shared with several computing centers via the Worldwide LHC Computing Grid. From there, they are distributed to CMS institutions in over forty countries for physics analysis.\n",
        "In keeping with CERN’s commitment to open access for high-energy physics, the scientific results from CMS are shared openly with the world. Additionally, CMS shares its particle physics data with the world. We will be analyzing some of this public data in this project.\n",
        "In this particle physics project students will be doing the following:\n",
        "\n",
        " Determining the charge of muons deflected by a magnetic field\n",
        "\n",
        "Writing a Matlab program to:a. histogram the \"raw\" data (diagnostic histograms) b. calculate the invariant mass of dimuon pairs c. Lorentz transform the data from the lab frame to the dimuon rest frame and repeat (a and b) in this frame\n",
        "\n",
        "Discussing the results of their analyses\n"
      ]
    },
    {
      "cell_type": "code",
      "metadata": {
        "id": "CigWd45VwpPp",
        "colab_type": "code",
        "colab": {}
      },
      "source": [
        "# imports some software packages we'll use\n",
        "import pandas as pd\n",
        "import numpy as np\n",
        "%matplotlib inline\n",
        "import matplotlib as mpl\n",
        "import matplotlib.pyplot as plt\n",
        "import math\n",
        "inline_rc = dict(mpl.rcParams)"
      ],
      "execution_count": null,
      "outputs": []
    },
    {
      "cell_type": "code",
      "metadata": {
        "id": "-u6HiVILyyc5",
        "colab_type": "code",
        "colab": {}
      },
      "source": [
        "# a hashtag tells the program \"don't read the rest of the line\"\n",
        "\n",
        "lowMass = pd.read_csv('https://raw.githubusercontent.com/dkallenberg/Quarknet_Data/master/CMS_Low-Mass_DiMuon.csv')\n",
        "\n",
        "data = lowMass\n"
      ],
      "execution_count": null,
      "outputs": []
    },
    {
      "cell_type": "code",
      "metadata": {
        "id": "vdQDKWrZy8Hx",
        "colab_type": "code",
        "colab": {}
      },
      "source": [
        "# The .head(n) command displays the first n rows of a file.\n",
        "data.head(5)"
      ],
      "execution_count": null,
      "outputs": []
    },
    {
      "cell_type": "code",
      "metadata": {
        "id": "BCZrNnruj9_M",
        "colab_type": "code",
        "colab": {}
      },
      "source": [
        "# The .shape command displays the (number of rows , number of columns) in a file.\n",
        "data.shape"
      ],
      "execution_count": null,
      "outputs": []
    },
    {
      "cell_type": "code",
      "metadata": {
        "id": "fwSwLgZpmWAP",
        "colab_type": "code",
        "colab": {}
      },
      "source": [
        "# The .types command displays\n",
        "data.dtypes"
      ],
      "execution_count": null,
      "outputs": []
    },
    {
      "cell_type": "code",
      "metadata": {
        "id": "ChFtDlvtkF-i",
        "colab_type": "code",
        "colab": {}
      },
      "source": [
        "# You can specify a column by dataset.columnName (e.g., two_u.E1)\n",
        "# This makes a new column called \"Adam\" and fills it with a meaningless \n",
        "# quantity (E1 + px1) for each event\n",
        "data['Etotal'] = data.E1 + data.E2\n",
        "# to raise a column to a power you need to uss **. For example to suqare the energy you would use \n",
        "data['Etotal^2'] = data.Etotal**2 "
      ],
      "execution_count": null,
      "outputs": []
    },
    {
      "cell_type": "code",
      "metadata": {
        "id": "rNQl2fXqSBVh",
        "colab_type": "code",
        "colab": {}
      },
      "source": [
        "data.head(5)"
      ],
      "execution_count": null,
      "outputs": []
    },
    {
      "cell_type": "code",
      "metadata": {
        "id": "ABhDZbQpn7V-",
        "colab_type": "code",
        "colab": {}
      },
      "source": [
        "# calculates descriptive statistics\n",
        "data['E1'].describe()"
      ],
      "execution_count": null,
      "outputs": []
    },
    {
      "cell_type": "code",
      "metadata": {
        "id": "rGj4QTvykMpz",
        "colab_type": "code",
        "colab": {}
      },
      "source": [
        "# This makes a histogram of that totally useless calculation above\n",
        "plt.hist(data.E1, bins=21, log=False)\n",
        "plt.title(\"Energy of 1st Muons\")\n",
        "plt.xlabel(\"Energy\")\n",
        "plt.ylabel(\"Events GeV\");"
      ],
      "execution_count": null,
      "outputs": []
    },
    {
      "cell_type": "code",
      "metadata": {
        "id": "IyjMTbSVhY0n",
        "colab_type": "code",
        "colab": {}
      },
      "source": [
        "nvars = 12  # Example number of variables\n",
        "\n",
        "# subplots(number of vertically stacked axis positions,\n",
        "#          number of horizontally stacked axis positions,\n",
        "#          figsize=(width, height))\n",
        "fig, ax = plt.subplots(4, 3, figsize=(18, 12))\n",
        "\n",
        "# Need to pass axis handle to df.plot()\n",
        "data.iloc[:,-nvars:].plot.hist(subplots=True, range=[0,300], ax=ax);"
      ],
      "execution_count": null,
      "outputs": []
    }
  ]
}